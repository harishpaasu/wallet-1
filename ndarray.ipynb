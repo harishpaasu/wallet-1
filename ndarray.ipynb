{
  "nbformat": 4,
  "nbformat_minor": 0,
  "metadata": {
    "colab": {
      "provenance": [],
      "authorship_tag": "ABX9TyNnyDDSsj6h7hQBZpbuuph1",
      "include_colab_link": true
    },
    "kernelspec": {
      "name": "python3",
      "display_name": "Python 3"
    },
    "language_info": {
      "name": "python"
    }
  },
  "cells": [
    {
      "cell_type": "markdown",
      "metadata": {
        "id": "view-in-github",
        "colab_type": "text"
      },
      "source": [
        "<a href=\"https://colab.research.google.com/github/harishpaasu/wallet-1/blob/main/ndarray.ipynb\" target=\"_parent\"><img src=\"https://colab.research.google.com/assets/colab-badge.svg\" alt=\"Open In Colab\"/></a>"
      ]
    },
    {
      "cell_type": "code",
      "source": [
        "#Create a 0-D array with the value 25 and print it.\n",
        "\n",
        "import numpy as np\n",
        "arr0=np.array(25)\n",
        "print(arr0)"
      ],
      "metadata": {
        "colab": {
          "base_uri": "https://localhost:8080/"
        },
        "id": "o3z9CWgX7B7C",
        "outputId": "840af0e3-8665-4cf4-c18a-e8bb9c990018"
      },
      "execution_count": 9,
      "outputs": [
        {
          "output_type": "stream",
          "name": "stdout",
          "text": [
            "25\n"
          ]
        }
      ]
    },
    {
      "cell_type": "code",
      "source": [
        "#Create a 1-D array containing numbers from 1 to 10.\n",
        "import numpy as np\n",
        "arr1=np.array([1,2,3,4,5,6,7,8,9,10])\n",
        "print(arr1)\n"
      ],
      "metadata": {
        "colab": {
          "base_uri": "https://localhost:8080/"
        },
        "id": "0GGvj8nM7Q_S",
        "outputId": "ba89f909-e0cb-4881-97ed-87194092a0f2"
      },
      "execution_count": 11,
      "outputs": [
        {
          "output_type": "stream",
          "name": "stdout",
          "text": [
            "[ 1  2  3  4  5  6  7  8  9 10]\n"
          ]
        }
      ]
    },
    {
      "cell_type": "code",
      "source": [
        "#Create a 2-D array with two rows: [1, 2, 3] and [4, 5, 6].\n",
        "import numpy as np\n",
        "arr2=np.array([[1,2,3],[4,5,6]])\n",
        "print(arr2)\n"
      ],
      "metadata": {
        "colab": {
          "base_uri": "https://localhost:8080/"
        },
        "id": "pGbsei9-7fpZ",
        "outputId": "c84cf804-c341-4995-a35a-939bfa75ee03"
      },
      "execution_count": 12,
      "outputs": [
        {
          "output_type": "stream",
          "name": "stdout",
          "text": [
            "[[1 2 3]\n",
            " [4 5 6]]\n"
          ]
        }
      ]
    },
    {
      "cell_type": "code",
      "source": [
        "#Create a 3-D array that contains two 2-D matrices of size 2×2 each\n",
        "import numpy as np\n",
        "arr3=np.array([[[1,2,3],[4,5,6]],[[7,8,9],[10,11,12]]])\n",
        "print(arr3)"
      ],
      "metadata": {
        "colab": {
          "base_uri": "https://localhost:8080/"
        },
        "id": "CFSy2wfT8Ajg",
        "outputId": "961275de-ac96-4c54-eba6-0b9bdb760346"
      },
      "execution_count": 16,
      "outputs": [
        {
          "output_type": "stream",
          "name": "stdout",
          "text": [
            "[[[ 1  2  3]\n",
            "  [ 4  5  6]]\n",
            "\n",
            " [[ 7  8  9]\n",
            "  [10 11 12]]]\n"
          ]
        }
      ]
    },
    {
      "cell_type": "code",
      "source": [
        "#Print the number of dimensions (ndim) of each of the above arrays.\n",
        "import numpy as np\n",
        "arr3=np.array([[[1,2,3],[4,5,6]],[[7,8,9],[10,11,12]]])\n",
        "print(arr3.ndim)"
      ],
      "metadata": {
        "colab": {
          "base_uri": "https://localhost:8080/"
        },
        "id": "B2Y2fZxN9H85",
        "outputId": "d6395687-ff62-4a2b-f46d-abd20803a432"
      },
      "execution_count": 18,
      "outputs": [
        {
          "output_type": "stream",
          "name": "stdout",
          "text": [
            "3\n"
          ]
        }
      ]
    },
    {
      "cell_type": "code",
      "source": [
        "#Convert the Python list [10, 20, 30, 40] into a NumPy array and print it.\n",
        "import numpy as np\n",
        "arr1=np.array([10,20,30,40])\n",
        "print(arr1)"
      ],
      "metadata": {
        "colab": {
          "base_uri": "https://localhost:8080/"
        },
        "id": "PQa_K3V19qH6",
        "outputId": "d1b1283c-7a0b-4519-c39d-29e827b597f0"
      },
      "execution_count": 19,
      "outputs": [
        {
          "output_type": "stream",
          "name": "stdout",
          "text": [
            "[10 20 30 40]\n"
          ]
        }
      ]
    },
    {
      "cell_type": "code",
      "source": [
        "#Create a 1-D array with even numbers between 2 and 20.\n",
        "import numpy as np\n",
        "arr2=np.array([2,4,6,8,10,12,14,16,18,20])\n",
        "print(arr2)"
      ],
      "metadata": {
        "colab": {
          "base_uri": "https://localhost:8080/"
        },
        "id": "CHtl5ALa9_RE",
        "outputId": "d0811219-0449-4187-88ef-4f09f91ccc07"
      },
      "execution_count": 20,
      "outputs": [
        {
          "output_type": "stream",
          "name": "stdout",
          "text": [
            "[ 2  4  6  8 10 12 14 16 18 20]\n"
          ]
        }
      ]
    }
  ]
}